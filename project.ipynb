{
  "nbformat": 4,
  "nbformat_minor": 0,
  "metadata": {
    "colab": {
      "provenance": []
    },
    "kernelspec": {
      "name": "python3",
      "display_name": "Python 3"
    },
    "language_info": {
      "name": "python"
    }
  },
  "cells": [
    {
      "cell_type": "code",
      "execution_count": 16,
      "metadata": {
        "id": "Vz5HmY2f5pHu"
      },
      "outputs": [],
      "source": [
        "\n",
        "import pickle\n",
        "with open('/content/images.p', 'rb') as f:\n",
        "  images = pickle.load(f)\n",
        "\n",
        "with open('/content/labels.p', 'rb') as f:\n",
        "  labels = pickle.load(f)"
      ]
    },
    {
      "cell_type": "code",
      "source": [
        "print(images.shape)\n",
        "print(labels.shape)"
      ],
      "metadata": {
        "colab": {
          "base_uri": "https://localhost:8080/"
        },
        "id": "Oon7O6fw8NAC",
        "outputId": "240d6b13-c134-451f-d762-34f4dcdde8c1"
      },
      "execution_count": 17,
      "outputs": [
        {
          "output_type": "stream",
          "name": "stdout",
          "text": [
            "(489, 100, 100)\n",
            "(489,)\n"
          ]
        }
      ]
    },
    {
      "cell_type": "code",
      "source": [
        "labels"
      ],
      "metadata": {
        "colab": {
          "base_uri": "https://localhost:8080/"
        },
        "id": "lTBpNFdq8pxG",
        "outputId": "c06a8521-760b-49eb-c2dc-48c6051516b3"
      },
      "execution_count": 18,
      "outputs": [
        {
          "output_type": "execute_result",
          "data": {
            "text/plain": [
              "array(['Kalia', 'Kalia', 'Kalia', 'Kalia', 'Kalia', 'Kalia', 'Kalia',\n",
              "       'Kalia', 'Kalia', 'Kalia', 'Kalia', 'Kalia', 'Kalia', 'Kalia',\n",
              "       'Kalia', 'Kalia', 'Kalia', 'Kalia', 'Kalia', 'Kalia', 'Kalia',\n",
              "       'Kalia', 'Kalia', 'Kalia', 'Kalia', 'Kalia', 'Kalia', 'Kalia',\n",
              "       'Kalia', 'Kalia', 'Kalia', 'Kalia', 'Kalia', 'Kalia', 'Kalia',\n",
              "       'Kalia', 'Kalia', 'Kalia', 'Kalia', 'Kalia', 'Kalia', 'Kalia',\n",
              "       'Kalia', 'Kalia', 'Kalia', 'Kalia', 'Kalia', 'Kalia', 'Kalia',\n",
              "       'Kalia', 'Kalia', 'Kalia', 'Kalia', 'Kalia', 'Kalia', 'Kalia',\n",
              "       'Kalia', 'Kalia', 'Kalia', 'Kalia', 'Kalia', 'Kalia', 'Kalia',\n",
              "       'Kalia', 'Kalia', 'Kalia', 'Kalia', 'Kalia', 'Kalia', 'Kalia',\n",
              "       'Kalia', 'Kalia', 'Kalia', 'Kalia', 'Kalia', 'Kalia', 'Kalia',\n",
              "       'Kalia', 'Kalia', 'Kalia', 'Kalia', 'Kalia', 'Kalia', 'Kalia',\n",
              "       'Kalia', 'Kalia', 'Kalia', 'Kalia', 'Kalia', 'Kalia', 'Kalia',\n",
              "       'Kalia', 'Kalia', 'Kalia', 'Kalia', 'Kalia', 'Kalia', 'Naresh',\n",
              "       'Naresh', 'Naresh', 'Naresh', 'Naresh', 'Naresh', 'Naresh',\n",
              "       'Naresh', 'Naresh', 'Naresh', 'Naresh', 'Naresh', 'Naresh',\n",
              "       'Naresh', 'Naresh', 'Naresh', 'Naresh', 'Naresh', 'Naresh',\n",
              "       'Naresh', 'Naresh', 'Naresh', 'Naresh', 'Naresh', 'Naresh',\n",
              "       'Naresh', 'Naresh', 'Naresh', 'Naresh', 'Naresh', 'Naresh',\n",
              "       'Naresh', 'Naresh', 'Naresh', 'Naresh', 'Naresh', 'Naresh',\n",
              "       'Naresh', 'Naresh', 'Naresh', 'Naresh', 'Naresh', 'Naresh',\n",
              "       'Naresh', 'Naresh', 'Naresh', 'Naresh', 'Naresh', 'Naresh',\n",
              "       'Naresh', 'Naresh', 'Naresh', 'Naresh', 'Naresh', 'Naresh',\n",
              "       'Naresh', 'Naresh', 'Naresh', 'Naresh', 'Naresh', 'Naresh',\n",
              "       'Naresh', 'Naresh', 'Naresh', 'Naresh', 'Naresh', 'Naresh',\n",
              "       'Naresh', 'Naresh', 'Naresh', 'Naresh', 'Naresh', 'Naresh',\n",
              "       'Naresh', 'Naresh', 'Naresh', 'Naresh', 'Naresh', 'Naresh',\n",
              "       'Naresh', 'Naresh', 'Naresh', 'Naresh', 'Naresh', 'Naresh',\n",
              "       'Naresh', 'Naresh', 'Naresh', 'Naresh', 'Naresh', 'Naresh',\n",
              "       'Naresh', 'Pratiman', 'Pratiman', 'Pratiman', 'Pratiman',\n",
              "       'Pratiman', 'Pratiman', 'Pratiman', 'Pratiman', 'Pratiman',\n",
              "       'Pratiman', 'Pratiman', 'Pratiman', 'Pratiman', 'Pratiman',\n",
              "       'Pratiman', 'Pratiman', 'Pratiman', 'Pratiman', 'Pratiman',\n",
              "       'Pratiman', 'Pratiman', 'Pratiman', 'Pratiman', 'Pratiman',\n",
              "       'Pratiman', 'Pratiman', 'Pratiman', 'Pratiman', 'Pratiman',\n",
              "       'Pratiman', 'Pratiman', 'Pratiman', 'Pratiman', 'Pratiman',\n",
              "       'Pratiman', 'Pratiman', 'Pratiman', 'Pratiman', 'Pratiman',\n",
              "       'Pratiman', 'Pratiman', 'Pratiman', 'Pratiman', 'Pratiman',\n",
              "       'Pratiman', 'Pratiman', 'Pratiman', 'Pratiman', 'Pratiman',\n",
              "       'Pratiman', 'Pratiman', 'Pratiman', 'Pratiman', 'Pratiman',\n",
              "       'Pratiman', 'Pratiman', 'Pratiman', 'Pratiman', 'Pratiman',\n",
              "       'Pratiman', 'Pratiman', 'Pratiman', 'Pratiman', 'Pratiman',\n",
              "       'Pratiman', 'Pratiman', 'Pratiman', 'Pratiman', 'Pratiman',\n",
              "       'Pratiman', 'Pratiman', 'Pratiman', 'Pratiman', 'Pratiman',\n",
              "       'Pratiman', 'Pratiman', 'Pratiman', 'Pratiman', 'Pratiman',\n",
              "       'Pratiman', 'Pratiman', 'Pratiman', 'Pratiman', 'Pratiman',\n",
              "       'Pratiman', 'Pratiman', 'Pratiman', 'Pratiman', 'Pratiman',\n",
              "       'Pratiman', 'Pratiman', 'Pratiman', 'Pratiman', 'Pratiman',\n",
              "       'Pratiman', 'Pratiman', 'Pratiman', 'Pratiman', 'Pratiman',\n",
              "       'Pratiman', 'Santosh', 'Santosh', 'Santosh', 'Santosh', 'Santosh',\n",
              "       'Santosh', 'Santosh', 'Santosh', 'Santosh', 'Santosh', 'Santosh',\n",
              "       'Santosh', 'Santosh', 'Santosh', 'Santosh', 'Santosh', 'Santosh',\n",
              "       'Santosh', 'Santosh', 'Santosh', 'Santosh', 'Santosh', 'Santosh',\n",
              "       'Santosh', 'Santosh', 'Santosh', 'Santosh', 'Santosh', 'Santosh',\n",
              "       'Santosh', 'Santosh', 'Santosh', 'Santosh', 'Santosh', 'Santosh',\n",
              "       'Santosh', 'Santosh', 'Santosh', 'Santosh', 'Santosh', 'Santosh',\n",
              "       'Santosh', 'Santosh', 'Santosh', 'Santosh', 'Santosh', 'Santosh',\n",
              "       'Santosh', 'Santosh', 'Santosh', 'Santosh', 'Santosh', 'Santosh',\n",
              "       'Santosh', 'Santosh', 'Santosh', 'Santosh', 'Santosh', 'Santosh',\n",
              "       'Santosh', 'Santosh', 'Santosh', 'Santosh', 'Santosh', 'Santosh',\n",
              "       'Santosh', 'Santosh', 'Santosh', 'Santosh', 'Santosh', 'Santosh',\n",
              "       'Santosh', 'Santosh', 'Santosh', 'Santosh', 'Santosh', 'Santosh',\n",
              "       'Santosh', 'Santosh', 'Santosh', 'Santosh', 'Santosh', 'Santosh',\n",
              "       'Santosh', 'Santosh', 'Santosh', 'Santosh', 'Santosh', 'Santosh',\n",
              "       'Santosh', 'Santosh', 'Santosh', 'Santosh', 'Santosh', 'Santosh',\n",
              "       'Santosh', 'Santosh', 'Santosh', 'Santosh', 'Santosh', 'Soumya',\n",
              "       'Soumya', 'Soumya', 'Soumya', 'Soumya', 'Soumya', 'Soumya',\n",
              "       'Soumya', 'Soumya', 'Soumya', 'Soumya', 'Soumya', 'Soumya',\n",
              "       'Soumya', 'Soumya', 'Soumya', 'Soumya', 'Soumya', 'Soumya',\n",
              "       'Soumya', 'Soumya', 'Soumya', 'Soumya', 'Soumya', 'Soumya',\n",
              "       'Soumya', 'Soumya', 'Soumya', 'Soumya', 'Soumya', 'Soumya',\n",
              "       'Soumya', 'Soumya', 'Soumya', 'Soumya', 'Soumya', 'Soumya',\n",
              "       'Soumya', 'Soumya', 'Soumya', 'Soumya', 'Soumya', 'Soumya',\n",
              "       'Soumya', 'Soumya', 'Soumya', 'Soumya', 'Soumya', 'Soumya',\n",
              "       'Soumya', 'Soumya', 'Soumya', 'Soumya', 'Soumya', 'Soumya',\n",
              "       'Soumya', 'Soumya', 'Soumya', 'Soumya', 'Soumya', 'Soumya',\n",
              "       'Soumya', 'Soumya', 'Soumya', 'Soumya', 'Soumya', 'Soumya',\n",
              "       'Soumya', 'Soumya', 'Soumya', 'Soumya', 'Soumya', 'Soumya',\n",
              "       'Soumya', 'Soumya', 'Soumya', 'Soumya', 'Soumya', 'Soumya',\n",
              "       'Soumya', 'Soumya', 'Soumya', 'Soumya', 'Soumya', 'Soumya',\n",
              "       'Soumya', 'Soumya', 'Soumya', 'Soumya', 'Soumya', 'Soumya',\n",
              "       'Soumya', 'Soumya', 'Soumya', 'Soumya', 'Soumya', 'Soumya',\n",
              "       'Soumya', 'Soumya', 'Soumya'], dtype='<U8')"
            ]
          },
          "metadata": {},
          "execution_count": 18
        }
      ]
    },
    {
      "cell_type": "code",
      "source": [
        "\n",
        "set(labels)"
      ],
      "metadata": {
        "colab": {
          "base_uri": "https://localhost:8080/"
        },
        "id": "7Fwx5ws98rnP",
        "outputId": "41001426-f15f-4171-dbbb-7b36d06205c1"
      },
      "execution_count": 19,
      "outputs": [
        {
          "output_type": "execute_result",
          "data": {
            "text/plain": [
              "{'Kalia', 'Naresh', 'Pratiman', 'Santosh', 'Soumya'}"
            ]
          },
          "metadata": {},
          "execution_count": 19
        }
      ]
    },
    {
      "cell_type": "code",
      "source": [
        "#Label encoding\n",
        "\n",
        "from sklearn.preprocessing import LabelEncoder\n",
        "le = LabelEncoder()\n",
        "labels = le.fit_transform(labels)"
      ],
      "metadata": {
        "id": "RTP7Bw3i8wZX"
      },
      "execution_count": 20,
      "outputs": []
    },
    {
      "cell_type": "code",
      "source": [
        "set(labels)"
      ],
      "metadata": {
        "colab": {
          "base_uri": "https://localhost:8080/"
        },
        "id": "T6E_dhtz8zUB",
        "outputId": "9b17bbd7-3098-46bf-bb23-ce5bd54c157b"
      },
      "execution_count": 21,
      "outputs": [
        {
          "output_type": "execute_result",
          "data": {
            "text/plain": [
              "{0, 1, 2, 3, 4}"
            ]
          },
          "metadata": {},
          "execution_count": 21
        }
      ]
    },
    {
      "cell_type": "code",
      "source": [
        "import numpy as np"
      ],
      "metadata": {
        "id": "f9gHe5HY83lB"
      },
      "execution_count": 22,
      "outputs": []
    },
    {
      "cell_type": "code",
      "source": [
        "#counting total number of persons\n",
        "\n",
        "p=len(set(labels))\n",
        "print(\"Number of persons \", p)\n",
        "\n",
        "a=le.inverse_transform(np.arange(p))\n",
        "for i in range(p):\n",
        "  print(i,' ----> ', a[i])"
      ],
      "metadata": {
        "colab": {
          "base_uri": "https://localhost:8080/"
        },
        "id": "S3md6MnP86oK",
        "outputId": "5cea1ee4-b80a-412a-efdd-8a2563da7406"
      },
      "execution_count": 23,
      "outputs": [
        {
          "output_type": "stream",
          "name": "stdout",
          "text": [
            "Number of persons  5\n",
            "0  ---->  Kalia\n",
            "1  ---->  Naresh\n",
            "2  ---->  Pratiman\n",
            "3  ---->  Santosh\n",
            "4  ---->  Soumya\n"
          ]
        }
      ]
    },
    {
      "cell_type": "code",
      "source": [
        "import matplotlib.pyplot as plt\n",
        "\n",
        "plt.imshow(images[96], cmap='gray')\n",
        "plt.show()"
      ],
      "metadata": {
        "colab": {
          "base_uri": "https://localhost:8080/",
          "height": 433
        },
        "id": "uvf91PNV89Vw",
        "outputId": "b40f2094-f412-4b43-d272-395477ecbfca"
      },
      "execution_count": 24,
      "outputs": [
        {
          "output_type": "display_data",
          "data": {
            "text/plain": [
              "<Figure size 640x480 with 1 Axes>"
            ],
            "image/png": "[encoded data removed]"
          },
          "metadata": {}
        }
      ]
    },
    {
      "cell_type": "code",
      "source": [
        "import cv2"
      ],
      "metadata": {
        "id": "OHfc7gt98_0Q"
      },
      "execution_count": 25,
      "outputs": []
    },
    {
      "cell_type": "code",
      "source": [
        "def preprocess(img):\n",
        "  img = cv2.equalizeHist(img)\n",
        "  img=img.reshape(100,100,1)\n",
        "  img = img/255\n",
        "  return img"
      ],
      "metadata": {
        "id": "W8-MMGMy9COB"
      },
      "execution_count": 26,
      "outputs": []
    },
    {
      "cell_type": "code",
      "source": [
        "images=np.array(list(map(preprocess, images)))\n",
        "print('Shape of input : ', images.shape)"
      ],
      "metadata": {
        "colab": {
          "base_uri": "https://localhost:8080/"
        },
        "id": "qi2p5BvE9EwA",
        "outputId": "12691c56-5edb-417e-921f-da7f214c7114"
      },
      "execution_count": 27,
      "outputs": [
        {
          "output_type": "stream",
          "name": "stdout",
          "text": [
            "Shape of input :  (489, 100, 100, 1)\n"
          ]
        }
      ]
    },
    {
      "cell_type": "code",
      "source": [
        "from keras.utils import to_categorical\n",
        "labels = to_categorical(labels)"
      ],
      "metadata": {
        "id": "V8Mup5Tq9G-_"
      },
      "execution_count": 28,
      "outputs": []
    },
    {
      "cell_type": "code",
      "source": [
        "#Model Training\n",
        "\n",
        "from keras.models import Sequential\n",
        "from keras.layers import Dense\n",
        "from keras.optimizers import Adam\n",
        "\n",
        "from keras.layers import Conv2D, MaxPooling2D, Flatten"
      ],
      "metadata": {
        "id": "rz6Lv9vu9IuT"
      },
      "execution_count": 29,
      "outputs": []
    },
    {
      "cell_type": "code",
      "source": [
        "def create_Model():\n",
        "  model = Sequential()\n",
        "  #Convolutional Layer & Relu Layer\n",
        "  model.add(Conv2D(30, (5,5), input_shape=(100,100,1), activation='relu'))\n",
        "\n",
        "  #Pooling Layer\n",
        "  model.add(MaxPooling2D(pool_size=(2,2)))\n",
        "  model.add(Conv2D(15, (3,3), activation='relu'))\n",
        "  model.add(MaxPooling2D(pool_size=(2,2)))\n",
        "\n",
        "  #Flatten Layer\n",
        "  model.add(Flatten())\n",
        "\n",
        "\n",
        "  #Hidden Layer\n",
        "  model.add(Dense(100, activation='relu'))\n",
        "  model.add(Dense(50, activation='relu'))\n",
        "\n",
        "  #Output Layer\n",
        "  model.add(Dense(5, activation='softmax'))\n",
        "\n",
        "  model.compile(Adam(learning_rate=0.01), loss=\"categorical_crossentropy\",metrics=['accuracy'])\n",
        "\n",
        "  return model"
      ],
      "metadata": {
        "id": "-iETig_h9LTl"
      },
      "execution_count": 30,
      "outputs": []
    },
    {
      "cell_type": "code",
      "source": [
        "model=create_Model()\n",
        "model.summary()"
      ],
      "metadata": {
        "colab": {
          "base_uri": "https://localhost:8080/"
        },
        "id": "DueE7f7m-viH",
        "outputId": "dd8ac23f-66f0-4b1a-8495-e996a27bb75b"
      },
      "execution_count": 31,
      "outputs": [
        {
          "output_type": "stream",
          "name": "stdout",
          "text": [
            "Model: \"sequential\"\n",
            "_________________________________________________________________\n",
            " Layer (type)                Output Shape              Param #   \n",
            "=================================================================\n",
            " conv2d (Conv2D)             (None, 96, 96, 30)        780       \n",
            "                                                                 \n",
            " max_pooling2d (MaxPooling2  (None, 48, 48, 30)        0         \n",
            " D)                                                              \n",
            "                                                                 \n",
            " conv2d_1 (Conv2D)           (None, 46, 46, 15)        4065      \n",
            "                                                                 \n",
            " max_pooling2d_1 (MaxPoolin  (None, 23, 23, 15)        0         \n",
            " g2D)                                                            \n",
            "                                                                 \n",
            " flatten (Flatten)           (None, 7935)              0         \n",
            "                                                                 \n",
            " dense (Dense)               (None, 100)               793600    \n",
            "                                                                 \n",
            " dense_1 (Dense)             (None, 50)                5050      \n",
            "                                                                 \n",
            " dense_2 (Dense)             (None, 5)                 255       \n",
            "                                                                 \n",
            "=================================================================\n",
            "Total params: 803750 (3.07 MB)\n",
            "Trainable params: 803750 (3.07 MB)\n",
            "Non-trainable params: 0 (0.00 Byte)\n",
            "_________________________________________________________________\n"
          ]
        }
      ]
    },
    {
      "cell_type": "code",
      "source": [
        "h=model.fit(images, labels, validation_split=0.1,epochs=15)"
      ],
      "metadata": {
        "colab": {
          "base_uri": "https://localhost:8080/"
        },
        "id": "hc29N-Bl9mYK",
        "outputId": "fdbc06ea-e2a0-4665-ea23-0abec4e31c7e"
      },
      "execution_count": 32,
      "outputs": [
        {
          "output_type": "stream",
          "name": "stdout",
          "text": [
            "Epoch 1/15\n",
            "14/14 [==============================] - 6s 297ms/step - loss: 2.8304 - accuracy: 0.4795 - val_loss: 1.4351 - val_accuracy: 0.0000e+00\n",
            "Epoch 2/15\n",
            "14/14 [==============================] - 5s 335ms/step - loss: 0.2450 - accuracy: 0.9136 - val_loss: 0.0846 - val_accuracy: 1.0000\n",
            "Epoch 3/15\n",
            "14/14 [==============================] - 5s 331ms/step - loss: 0.0294 - accuracy: 0.9977 - val_loss: 0.0074 - val_accuracy: 1.0000\n",
            "Epoch 4/15\n",
            "14/14 [==============================] - 4s 286ms/step - loss: 0.0081 - accuracy: 0.9977 - val_loss: 9.2996e-04 - val_accuracy: 1.0000\n",
            "Epoch 5/15\n",
            "14/14 [==============================] - 4s 299ms/step - loss: 0.0094 - accuracy: 0.9977 - val_loss: 5.1016e-04 - val_accuracy: 1.0000\n",
            "Epoch 6/15\n",
            "14/14 [==============================] - 5s 373ms/step - loss: 0.0073 - accuracy: 0.9955 - val_loss: 2.6787e-04 - val_accuracy: 1.0000\n",
            "Epoch 7/15\n",
            "14/14 [==============================] - 4s 278ms/step - loss: 0.0057 - accuracy: 0.9977 - val_loss: 0.0011 - val_accuracy: 1.0000\n",
            "Epoch 8/15\n",
            "14/14 [==============================] - 4s 300ms/step - loss: 0.0029 - accuracy: 1.0000 - val_loss: 0.0027 - val_accuracy: 1.0000\n",
            "Epoch 9/15\n",
            "14/14 [==============================] - 6s 396ms/step - loss: 3.7559e-04 - accuracy: 1.0000 - val_loss: 0.0075 - val_accuracy: 1.0000\n",
            "Epoch 10/15\n",
            "14/14 [==============================] - 5s 366ms/step - loss: 2.2490e-04 - accuracy: 1.0000 - val_loss: 0.0032 - val_accuracy: 1.0000\n",
            "Epoch 11/15\n",
            "14/14 [==============================] - 4s 314ms/step - loss: 1.3176e-04 - accuracy: 1.0000 - val_loss: 0.0020 - val_accuracy: 1.0000\n",
            "Epoch 12/15\n",
            "14/14 [==============================] - 5s 364ms/step - loss: 8.6776e-05 - accuracy: 1.0000 - val_loss: 0.0018 - val_accuracy: 1.0000\n",
            "Epoch 13/15\n",
            "14/14 [==============================] - 4s 300ms/step - loss: 6.6156e-05 - accuracy: 1.0000 - val_loss: 0.0018 - val_accuracy: 1.0000\n",
            "Epoch 14/15\n",
            "14/14 [==============================] - 4s 303ms/step - loss: 5.5182e-05 - accuracy: 1.0000 - val_loss: 0.0017 - val_accuracy: 1.0000\n",
            "Epoch 15/15\n",
            "14/14 [==============================] - 5s 375ms/step - loss: 4.6626e-05 - accuracy: 1.0000 - val_loss: 0.0017 - val_accuracy: 1.0000\n"
          ]
        }
      ]
    },
    {
      "cell_type": "code",
      "source": [
        "model.save('final_model.h5')"
      ],
      "metadata": {
        "id": "ceaUG9K3_Y7B"
      },
      "execution_count": 34,
      "outputs": []
    },
    {
      "cell_type": "code",
      "source": [],
      "metadata": {
        "id": "Qgc8IIFxKPJu"
      },
      "execution_count": null,
      "outputs": []
    }
  ]
}